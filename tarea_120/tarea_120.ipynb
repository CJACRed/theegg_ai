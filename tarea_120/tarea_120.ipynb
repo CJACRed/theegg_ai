{
 "cells": [
  {
   "cell_type": "code",
   "execution_count": 1,
   "metadata": {
    "id": "CSciM9y_iSbm"
   },
   "outputs": [],
   "source": [
    "import pandas as pd\n",
    "import numpy as np"
   ]
  },
  {
   "cell_type": "code",
   "execution_count": 2,
   "metadata": {
    "id": "rMjTJx8qiVh5"
   },
   "outputs": [],
   "source": [
    "path = 'poblacion_global_2020.csv'"
   ]
  },
  {
   "attachments": {},
   "cell_type": "markdown",
   "metadata": {
    "id": "4eh5I2Hl47dd"
   },
   "source": [
    "# Ejercicio\n",
    "\n",
    "Examina detenidamente el siguiente dataset y responde las siguientes preguntas:\n",
    "\n",
    "* ¿Porqué cumple con las condiciones de Tidy Data?\n",
    "* ¿Cuál es el data point principal y cual es la meta data?\n",
    "Data point: Los paises. El resto metadata.\n",
    "* Si quisieramos saber más sobre los niveles educativos globales ¿Qué otras características necesitariamos para este data set?\n",
    "Pueden elegirse muchos: % población con determinado nivel de estudios. Edad media de cada nivel de estudios. % de hombres y mujeres en cada uno, clasificación en comparativas internacionales \n",
    "* ¿Qué tipo de análisis harías con este data set?\n",
    "Análisis demograficos y poblacionales"
   ]
  },
  {
   "cell_type": "code",
   "execution_count": 3,
   "metadata": {
    "colab": {
     "base_uri": "https://localhost:8080/",
     "height": 206
    },
    "id": "zIVDU1LhlGlf",
    "outputId": "d5d8dc73-d7c1-436a-9ac6-8550cbbedb6f"
   },
   "outputs": [
    {
     "data": {
      "text/html": [
       "<div>\n",
       "<style scoped>\n",
       "    .dataframe tbody tr th:only-of-type {\n",
       "        vertical-align: middle;\n",
       "    }\n",
       "\n",
       "    .dataframe tbody tr th {\n",
       "        vertical-align: top;\n",
       "    }\n",
       "\n",
       "    .dataframe thead th {\n",
       "        text-align: right;\n",
       "    }\n",
       "</style>\n",
       "<table border=\"1\" class=\"dataframe\">\n",
       "  <thead>\n",
       "    <tr style=\"text-align: right;\">\n",
       "      <th></th>\n",
       "      <th>Pais</th>\n",
       "      <th>Poblacion (2020)</th>\n",
       "      <th>Densidad</th>\n",
       "      <th>Territorio (Km²)</th>\n",
       "      <th>Tasa Migracion</th>\n",
       "      <th>Tasa Fertilidad</th>\n",
       "      <th>Edad Promedio</th>\n",
       "      <th>% Poblacion Urbaba</th>\n",
       "    </tr>\n",
       "  </thead>\n",
       "  <tbody>\n",
       "    <tr>\n",
       "      <th>0</th>\n",
       "      <td>China</td>\n",
       "      <td>1440297825</td>\n",
       "      <td>153</td>\n",
       "      <td>9388211</td>\n",
       "      <td>-348399.0</td>\n",
       "      <td>1.7</td>\n",
       "      <td>38</td>\n",
       "      <td>61 %</td>\n",
       "    </tr>\n",
       "    <tr>\n",
       "      <th>1</th>\n",
       "      <td>India</td>\n",
       "      <td>1382345085</td>\n",
       "      <td>464</td>\n",
       "      <td>2973190</td>\n",
       "      <td>-532687.0</td>\n",
       "      <td>2.2</td>\n",
       "      <td>28</td>\n",
       "      <td>35 %</td>\n",
       "    </tr>\n",
       "    <tr>\n",
       "      <th>2</th>\n",
       "      <td>Estados Unidos</td>\n",
       "      <td>331341050</td>\n",
       "      <td>36</td>\n",
       "      <td>9147420</td>\n",
       "      <td>954806.0</td>\n",
       "      <td>1.8</td>\n",
       "      <td>38</td>\n",
       "      <td>83 %</td>\n",
       "    </tr>\n",
       "    <tr>\n",
       "      <th>3</th>\n",
       "      <td>Indonesia</td>\n",
       "      <td>274021604</td>\n",
       "      <td>151</td>\n",
       "      <td>1811570</td>\n",
       "      <td>-98955.0</td>\n",
       "      <td>2.3</td>\n",
       "      <td>30</td>\n",
       "      <td>56 %</td>\n",
       "    </tr>\n",
       "    <tr>\n",
       "      <th>4</th>\n",
       "      <td>Pakistán</td>\n",
       "      <td>221612785</td>\n",
       "      <td>287</td>\n",
       "      <td>770880</td>\n",
       "      <td>-233379.0</td>\n",
       "      <td>3.6</td>\n",
       "      <td>23</td>\n",
       "      <td>35 %</td>\n",
       "    </tr>\n",
       "  </tbody>\n",
       "</table>\n",
       "</div>"
      ],
      "text/plain": [
       "             Pais  Poblacion (2020)  Densidad  Territorio (Km²)  \\\n",
       "0           China        1440297825       153           9388211   \n",
       "1           India        1382345085       464           2973190   \n",
       "2  Estados Unidos         331341050        36           9147420   \n",
       "3       Indonesia         274021604       151           1811570   \n",
       "4        Pakistán         221612785       287            770880   \n",
       "\n",
       "   Tasa Migracion Tasa Fertilidad Edad Promedio % Poblacion Urbaba  \n",
       "0       -348399.0             1.7            38               61 %  \n",
       "1       -532687.0             2.2            28               35 %  \n",
       "2        954806.0             1.8            38               83 %  \n",
       "3        -98955.0             2.3            30               56 %  \n",
       "4       -233379.0             3.6            23               35 %  "
      ]
     },
     "execution_count": 3,
     "metadata": {},
     "output_type": "execute_result"
    }
   ],
   "source": [
    "df = pd.read_csv(path)\n",
    "\n",
    "df.head()"
   ]
  },
  {
   "cell_type": "markdown",
   "metadata": {
    "id": "icPpmAcd5BCY"
   },
   "source": [
    "# Ejercicios:\n",
    "\n",
    "Manipula el dataset, de manera que respondas las siguientes preguntas:\n",
    "\n",
    "1. ¿Cual es el promedio de Tasa de Fertilidad global?\n",
    "2. ¿Que país tiene la Edad Promedio más alta y cual la más baja?\n",
    "3. Agrupa los países por continente y obtén la mediana de la población urbana\n",
    "4. ¿Qué otro de cálculo de interés (usando estas variables) crees pertinente para comparar la calidad de vida a nivel global? ¿Porqué?"
   ]
  },
  {
   "cell_type": "code",
   "execution_count": 6,
   "metadata": {},
   "outputs": [
    {
     "data": {
      "text/plain": [
       "Pais                   object\n",
       "Poblacion (2020)        int64\n",
       "Densidad                int64\n",
       "Territorio (Km²)        int64\n",
       "Tasa Migracion        float64\n",
       "Tasa Fertilidad        object\n",
       "Edad Promedio          object\n",
       "% Poblacion Urbaba     object\n",
       "dtype: object"
      ]
     },
     "execution_count": 6,
     "metadata": {},
     "output_type": "execute_result"
    }
   ],
   "source": [
    "#1.- Tasa de fertilidad global\n",
    "df.dtypes"
   ]
  },
  {
   "cell_type": "code",
   "execution_count": 16,
   "metadata": {},
   "outputs": [
    {
     "data": {
      "text/plain": [
       "2.6930348258706465"
      ]
     },
     "execution_count": 16,
     "metadata": {},
     "output_type": "execute_result"
    }
   ],
   "source": [
    "#Quitamos los resultados N.A.\n",
    "df1 = df[df['Tasa Fertilidad']!='N.A.']\n",
    "#convertimos a numerico y calculamos media:\n",
    "df1['Tasa Fertilidad'].astype(float).mean()"
   ]
  },
  {
   "cell_type": "code",
   "execution_count": 30,
   "metadata": {},
   "outputs": [
    {
     "name": "stdout",
     "output_type": "stream",
     "text": [
      "Valor maximo: 48  y el Pais:  Japan\n",
      "Valor minimo:  15 y el Pais:  Niger\n"
     ]
    }
   ],
   "source": [
    "#2.-Pais edad promedio más alta y baja\n",
    "#Quitamos los resultados N.A.\n",
    "df2 = df[df['Edad Promedio']!='N.A.']\n",
    "#convertimos a numerico y calculamos max y min:\n",
    "maximo = df2['Edad Promedio'].max()\n",
    "minimo = df2['Edad Promedio'].min()\n",
    "#Identificamos pais con esos valores\n",
    "print('Valor maximo:', maximo, ' y el Pais: ', df2.loc[df2['Edad Promedio'] == maximo,'Pais'].values[0])\n",
    "print('Valor minimo: ', minimo, 'y el Pais: ',df2.loc[df2['Edad Promedio'] == minimo,'Pais'].values[0])"
   ]
  },
  {
   "cell_type": "code",
   "execution_count": 35,
   "metadata": {},
   "outputs": [
    {
     "data": {
      "text/html": [
       "<div>\n",
       "<style scoped>\n",
       "    .dataframe tbody tr th:only-of-type {\n",
       "        vertical-align: middle;\n",
       "    }\n",
       "\n",
       "    .dataframe tbody tr th {\n",
       "        vertical-align: top;\n",
       "    }\n",
       "\n",
       "    .dataframe thead th {\n",
       "        text-align: right;\n",
       "    }\n",
       "</style>\n",
       "<table border=\"1\" class=\"dataframe\">\n",
       "  <thead>\n",
       "    <tr style=\"text-align: right;\">\n",
       "      <th></th>\n",
       "      <th>Continente</th>\n",
       "      <th>Pais</th>\n",
       "    </tr>\n",
       "  </thead>\n",
       "  <tbody>\n",
       "    <tr>\n",
       "      <th>0</th>\n",
       "      <td>EUROPA</td>\n",
       "      <td>Austria</td>\n",
       "    </tr>\n",
       "    <tr>\n",
       "      <th>1</th>\n",
       "      <td>EUROPA</td>\n",
       "      <td>Bélgica</td>\n",
       "    </tr>\n",
       "    <tr>\n",
       "      <th>2</th>\n",
       "      <td>EUROPA</td>\n",
       "      <td>Bulgaria</td>\n",
       "    </tr>\n",
       "    <tr>\n",
       "      <th>3</th>\n",
       "      <td>EUROPA</td>\n",
       "      <td>Chipre</td>\n",
       "    </tr>\n",
       "    <tr>\n",
       "      <th>4</th>\n",
       "      <td>EUROPA</td>\n",
       "      <td>Dinamarca</td>\n",
       "    </tr>\n",
       "  </tbody>\n",
       "</table>\n",
       "</div>"
      ],
      "text/plain": [
       "  Continente       Pais\n",
       "0     EUROPA    Austria\n",
       "1     EUROPA    Bélgica\n",
       "2     EUROPA   Bulgaria\n",
       "3     EUROPA     Chipre\n",
       "4     EUROPA  Dinamarca"
      ]
     },
     "execution_count": 35,
     "metadata": {},
     "output_type": "execute_result"
    }
   ],
   "source": [
    "#Agrupa por continentes y calcula mediana población urbana:\n",
    "df_cont= pd.read_csv('continente_pais.csv', delimiter =';' )\n",
    "df_cont.head()"
   ]
  },
  {
   "cell_type": "code",
   "execution_count": 52,
   "metadata": {},
   "outputs": [
    {
     "data": {
      "text/html": [
       "<div>\n",
       "<style scoped>\n",
       "    .dataframe tbody tr th:only-of-type {\n",
       "        vertical-align: middle;\n",
       "    }\n",
       "\n",
       "    .dataframe tbody tr th {\n",
       "        vertical-align: top;\n",
       "    }\n",
       "\n",
       "    .dataframe thead th {\n",
       "        text-align: right;\n",
       "    }\n",
       "</style>\n",
       "<table border=\"1\" class=\"dataframe\">\n",
       "  <thead>\n",
       "    <tr style=\"text-align: right;\">\n",
       "      <th></th>\n",
       "      <th>Pais</th>\n",
       "      <th>Poblacion (2020)</th>\n",
       "      <th>Densidad</th>\n",
       "      <th>Territorio (Km²)</th>\n",
       "      <th>Tasa Migracion</th>\n",
       "      <th>Tasa Fertilidad</th>\n",
       "      <th>Edad Promedio</th>\n",
       "      <th>% Poblacion Urbaba</th>\n",
       "      <th>Continente</th>\n",
       "    </tr>\n",
       "  </thead>\n",
       "  <tbody>\n",
       "    <tr>\n",
       "      <th>0</th>\n",
       "      <td>China</td>\n",
       "      <td>1440297825</td>\n",
       "      <td>153</td>\n",
       "      <td>9388211</td>\n",
       "      <td>-348399.0</td>\n",
       "      <td>1.7</td>\n",
       "      <td>38</td>\n",
       "      <td>61 %</td>\n",
       "      <td>ASIA</td>\n",
       "    </tr>\n",
       "    <tr>\n",
       "      <th>1</th>\n",
       "      <td>India</td>\n",
       "      <td>1382345085</td>\n",
       "      <td>464</td>\n",
       "      <td>2973190</td>\n",
       "      <td>-532687.0</td>\n",
       "      <td>2.2</td>\n",
       "      <td>28</td>\n",
       "      <td>35 %</td>\n",
       "      <td>ASIA</td>\n",
       "    </tr>\n",
       "    <tr>\n",
       "      <th>2</th>\n",
       "      <td>Estados Unidos</td>\n",
       "      <td>331341050</td>\n",
       "      <td>36</td>\n",
       "      <td>9147420</td>\n",
       "      <td>954806.0</td>\n",
       "      <td>1.8</td>\n",
       "      <td>38</td>\n",
       "      <td>83 %</td>\n",
       "      <td>AMERICA</td>\n",
       "    </tr>\n",
       "    <tr>\n",
       "      <th>3</th>\n",
       "      <td>Indonesia</td>\n",
       "      <td>274021604</td>\n",
       "      <td>151</td>\n",
       "      <td>1811570</td>\n",
       "      <td>-98955.0</td>\n",
       "      <td>2.3</td>\n",
       "      <td>30</td>\n",
       "      <td>56 %</td>\n",
       "      <td>ASIA</td>\n",
       "    </tr>\n",
       "    <tr>\n",
       "      <th>4</th>\n",
       "      <td>Pakistán</td>\n",
       "      <td>221612785</td>\n",
       "      <td>287</td>\n",
       "      <td>770880</td>\n",
       "      <td>-233379.0</td>\n",
       "      <td>3.6</td>\n",
       "      <td>23</td>\n",
       "      <td>35 %</td>\n",
       "      <td>ASIA</td>\n",
       "    </tr>\n",
       "  </tbody>\n",
       "</table>\n",
       "</div>"
      ],
      "text/plain": [
       "             Pais  Poblacion (2020)  Densidad  Territorio (Km²)  \\\n",
       "0           China        1440297825       153           9388211   \n",
       "1           India        1382345085       464           2973190   \n",
       "2  Estados Unidos         331341050        36           9147420   \n",
       "3       Indonesia         274021604       151           1811570   \n",
       "4        Pakistán         221612785       287            770880   \n",
       "\n",
       "   Tasa Migracion Tasa Fertilidad Edad Promedio % Poblacion Urbaba Continente  \n",
       "0       -348399.0             1.7            38               61 %       ASIA  \n",
       "1       -532687.0             2.2            28               35 %       ASIA  \n",
       "2        954806.0             1.8            38               83 %    AMERICA  \n",
       "3        -98955.0             2.3            30               56 %       ASIA  \n",
       "4       -233379.0             3.6            23               35 %       ASIA  "
      ]
     },
     "execution_count": 52,
     "metadata": {},
     "output_type": "execute_result"
    }
   ],
   "source": [
    "dfext = df1.merge(df_cont, how = 'left', on='Pais')\n",
    "dfext.head()"
   ]
  },
  {
   "cell_type": "code",
   "execution_count": 60,
   "metadata": {},
   "outputs": [
    {
     "data": {
      "text/html": [
       "<div>\n",
       "<style scoped>\n",
       "    .dataframe tbody tr th:only-of-type {\n",
       "        vertical-align: middle;\n",
       "    }\n",
       "\n",
       "    .dataframe tbody tr th {\n",
       "        vertical-align: top;\n",
       "    }\n",
       "\n",
       "    .dataframe thead th {\n",
       "        text-align: right;\n",
       "    }\n",
       "</style>\n",
       "<table border=\"1\" class=\"dataframe\">\n",
       "  <thead>\n",
       "    <tr style=\"text-align: right;\">\n",
       "      <th></th>\n",
       "      <th>Pais</th>\n",
       "      <th>Poblacion (2020)</th>\n",
       "      <th>Densidad</th>\n",
       "      <th>Territorio (Km²)</th>\n",
       "      <th>Tasa Migracion</th>\n",
       "      <th>Tasa Fertilidad</th>\n",
       "      <th>Edad Promedio</th>\n",
       "      <th>% Poblacion Urbaba</th>\n",
       "      <th>Continente</th>\n",
       "    </tr>\n",
       "  </thead>\n",
       "  <tbody>\n",
       "    <tr>\n",
       "      <th>0</th>\n",
       "      <td>China</td>\n",
       "      <td>1440297825</td>\n",
       "      <td>153</td>\n",
       "      <td>9388211</td>\n",
       "      <td>-348399.0</td>\n",
       "      <td>1.7</td>\n",
       "      <td>38</td>\n",
       "      <td>61</td>\n",
       "      <td>ASIA</td>\n",
       "    </tr>\n",
       "    <tr>\n",
       "      <th>1</th>\n",
       "      <td>India</td>\n",
       "      <td>1382345085</td>\n",
       "      <td>464</td>\n",
       "      <td>2973190</td>\n",
       "      <td>-532687.0</td>\n",
       "      <td>2.2</td>\n",
       "      <td>28</td>\n",
       "      <td>35</td>\n",
       "      <td>ASIA</td>\n",
       "    </tr>\n",
       "    <tr>\n",
       "      <th>2</th>\n",
       "      <td>Estados Unidos</td>\n",
       "      <td>331341050</td>\n",
       "      <td>36</td>\n",
       "      <td>9147420</td>\n",
       "      <td>954806.0</td>\n",
       "      <td>1.8</td>\n",
       "      <td>38</td>\n",
       "      <td>83</td>\n",
       "      <td>AMERICA</td>\n",
       "    </tr>\n",
       "    <tr>\n",
       "      <th>3</th>\n",
       "      <td>Indonesia</td>\n",
       "      <td>274021604</td>\n",
       "      <td>151</td>\n",
       "      <td>1811570</td>\n",
       "      <td>-98955.0</td>\n",
       "      <td>2.3</td>\n",
       "      <td>30</td>\n",
       "      <td>56</td>\n",
       "      <td>ASIA</td>\n",
       "    </tr>\n",
       "    <tr>\n",
       "      <th>4</th>\n",
       "      <td>Pakistán</td>\n",
       "      <td>221612785</td>\n",
       "      <td>287</td>\n",
       "      <td>770880</td>\n",
       "      <td>-233379.0</td>\n",
       "      <td>3.6</td>\n",
       "      <td>23</td>\n",
       "      <td>35</td>\n",
       "      <td>ASIA</td>\n",
       "    </tr>\n",
       "  </tbody>\n",
       "</table>\n",
       "</div>"
      ],
      "text/plain": [
       "             Pais  Poblacion (2020)  Densidad  Territorio (Km²)  \\\n",
       "0           China        1440297825       153           9388211   \n",
       "1           India        1382345085       464           2973190   \n",
       "2  Estados Unidos         331341050        36           9147420   \n",
       "3       Indonesia         274021604       151           1811570   \n",
       "4        Pakistán         221612785       287            770880   \n",
       "\n",
       "   Tasa Migracion Tasa Fertilidad Edad Promedio % Poblacion Urbaba Continente  \n",
       "0       -348399.0             1.7            38                61        ASIA  \n",
       "1       -532687.0             2.2            28                35        ASIA  \n",
       "2        954806.0             1.8            38                83     AMERICA  \n",
       "3        -98955.0             2.3            30                56        ASIA  \n",
       "4       -233379.0             3.6            23                35        ASIA  "
      ]
     },
     "execution_count": 60,
     "metadata": {},
     "output_type": "execute_result"
    }
   ],
   "source": [
    "dfext['% Poblacion Urbaba']= dfext['% Poblacion Urbaba'].str.replace('%','')\n",
    "dfext.head()"
   ]
  },
  {
   "cell_type": "code",
   "execution_count": 61,
   "metadata": {},
   "outputs": [
    {
     "data": {
      "text/plain": [
       "0      61.0\n",
       "1      35.0\n",
       "2      83.0\n",
       "3      56.0\n",
       "4      35.0\n",
       "       ... \n",
       "196    44.0\n",
       "197    24.0\n",
       "198    96.0\n",
       "199    56.0\n",
       "200    26.0\n",
       "Name: % Poblacion Urbaba, Length: 194, dtype: float64"
      ]
     },
     "execution_count": 61,
     "metadata": {},
     "output_type": "execute_result"
    }
   ],
   "source": [
    "dfext2 = dfext[dfext['% Poblacion Urbaba']!='N.A.']\n",
    "dfext2['% Poblacion Urbaba'].astype(float)"
   ]
  },
  {
   "cell_type": "code",
   "execution_count": 64,
   "metadata": {},
   "outputs": [
    {
     "data": {
      "text/plain": [
       "Continente\n",
       "AFRICA     46.0\n",
       "AMERICA    69.0\n",
       "ASIA       58.0\n",
       "EUROPA     70.0\n",
       "OCEANIA    33.0\n",
       "Name: % Poblacion Urbaba, dtype: float64"
      ]
     },
     "execution_count": 64,
     "metadata": {},
     "output_type": "execute_result"
    }
   ],
   "source": [
    "\n",
    "dfext3 = dfext2.groupby('Continente')\n",
    "dfext3['% Poblacion Urbaba'].median()"
   ]
  },
  {
   "cell_type": "code",
   "execution_count": null,
   "metadata": {},
   "outputs": [],
   "source": [
    "#¿Qué otro de cálculo de interés (usando estas variables) crees pertinente para comparar la calidad de vida a nivel global? ¿Porqué?\n",
    "analizar la densidad contra la población urbana, tasa de fertilidad contra edad promedio,la tasa de migración frente a la densidad. Cada uno ofrece una vista diferente de la situacióin de la población."
   ]
  }
 ],
 "metadata": {
  "colab": {
   "name": "DatoInteligente_Tarea.ipynb",
   "provenance": []
  },
  "kernelspec": {
   "display_name": "base",
   "language": "python",
   "name": "python3"
  },
  "language_info": {
   "codemirror_mode": {
    "name": "ipython",
    "version": 3
   },
   "file_extension": ".py",
   "mimetype": "text/x-python",
   "name": "python",
   "nbconvert_exporter": "python",
   "pygments_lexer": "ipython3",
   "version": "3.9.12 (main, Apr  4 2022, 05:22:27) [MSC v.1916 64 bit (AMD64)]"
  },
  "vscode": {
   "interpreter": {
    "hash": "ad2bdc8ecc057115af97d19610ffacc2b4e99fae6737bb82f5d7fb13d2f2c186"
   }
  }
 },
 "nbformat": 4,
 "nbformat_minor": 1
}
