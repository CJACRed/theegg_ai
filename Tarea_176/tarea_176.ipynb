{
 "cells": [
  {
   "cell_type": "code",
   "execution_count": 56,
   "id": "90497131",
   "metadata": {},
   "outputs": [
    {
     "name": "stdout",
     "output_type": "stream",
     "text": [
      "a tiene un valor de  5\n",
      "b tiene un valor de  5\n",
      "c tiene un valor de  6\n",
      "6  es el mayor numero\n"
     ]
    }
   ],
   "source": [
    "#identificar que numero es mayor entre tres\n",
    "a =5\n",
    "b=5\n",
    "c=6\n",
    "print('a tiene un valor de ',a)\n",
    "print('b tiene un valor de ',b)\n",
    "print('c tiene un valor de ',c)\n",
    "if a>b:\n",
    "    if a>c:\n",
    "        print(a,' es el numero mayor')\n",
    "    elif c>b:\n",
    "        print(c,' es el mayor numero')\n",
    "elif b>a:\n",
    "    if c>b:\n",
    "        print(c,' es el mayor numero')\n",
    "    else:    \n",
    "        print(b,' es el mayor numero')\n",
    "elif a == b:\n",
    "    if c>b:\n",
    "        print(c,' es el mayor numero')\n",
    "    else:\n",
    "        print('son iguales')"
   ]
  },
  {
   "cell_type": "code",
   "execution_count": 58,
   "id": "c329d8fc",
   "metadata": {},
   "outputs": [
    {
     "name": "stdout",
     "output_type": "stream",
     "text": [
      "24\n",
      "la longitud de la frase \" mi mano tiene tres dedos \" es  24\n"
     ]
    }
   ],
   "source": [
    "#programa que diga longitud de una frase\n",
    "a ='mi mano tiene tres dedos'\n",
    "#usamos la funcion de longitud de una cadena \"len\"\n",
    "print(len(a))\n",
    "#Lo calculamos de forma manual\n",
    "contador = 0\n",
    "for n in a:\n",
    "    contador=contador+1\n",
    "    \n",
    "print('la longitud de la frase \"',a,'\" es ',contador)"
   ]
  },
  {
   "cell_type": "code",
   "execution_count": 25,
   "id": "25535672",
   "metadata": {},
   "outputs": [
    {
     "name": "stdout",
     "output_type": "stream",
     "text": [
      "¿el caracter es una vocal? False\n"
     ]
    }
   ],
   "source": [
    "#Programa que determine si un caracter dado es vocal o no\n",
    "lista_vocales=['a','e','i','o','u']\n",
    "caracter = 'g'\n",
    "es_vocal = False\n",
    "if caracter in lista_vocales:\n",
    "    es_vocal = True\n",
    "print('¿el caracter es una vocal?', es_vocal)\n"
   ]
  },
  {
   "cell_type": "code",
   "execution_count": 36,
   "id": "99389e5e",
   "metadata": {},
   "outputs": [
    {
     "name": "stdout",
     "output_type": "stream",
     "text": [
      "la suma de la lista es: 122\n"
     ]
    }
   ],
   "source": [
    "#programa que sume los valores de una lista\n",
    "lista_asumar = [1,23,3,45,50]\n",
    "suma_lista = 0\n",
    "for n in lista_asumar:\n",
    "    suma_lista = suma_lista + n\n",
    "print('la suma de la lista es:',suma_lista)\n"
   ]
  },
  {
   "cell_type": "code",
   "execution_count": null,
   "id": "b690bbdd",
   "metadata": {},
   "outputs": [],
   "source": [
    "#Funcion que encuentre palindromos\n",
    "\n",
    "def Palindromo(frase):\n",
    "    if frase == frase[::-1]:\n",
    "        pal = True\n",
    "    else:\n",
    "        pal = False\n",
    "    return pal\n",
    "\n",
    "texto='abcbb'\n",
    "a = Palindromo(texto)\n",
    "print('¿ Es el texto',texto,'un Palindromo?', a) "
   ]
  },
  {
   "cell_type": "code",
   "execution_count": 45,
   "id": "ebe87520",
   "metadata": {},
   "outputs": [
    {
     "name": "stdout",
     "output_type": "stream",
     "text": [
      "Coincide el valor 45 en ambas listas\n",
      "Coincide el valor 34 en ambas listas\n",
      "la lista de coincidencias es [45, 34]\n",
      "[45, 34]\n"
     ]
    }
   ],
   "source": [
    "#programa que compare dos listas y encuentre si hay valores coincidentes\n",
    "lista1 = [12,185,66,45,34]\n",
    "lista2 = [34,65,23,45,67]\n",
    "lista_coincidencias =[]\n",
    "lista_coin2 = []\n",
    "for n in lista1:\n",
    "    for z in lista2:\n",
    "        if z == n:\n",
    "            lista_coincidencias.append(z)\n",
    "            lista_coin2 +=  [z]\n",
    "            print('Coincide el valor',z,'en ambas listas')\n",
    "print('la lista de coincidencias es', lista_coincidencias)\n",
    "print(lista_coin2)"
   ]
  },
  {
   "cell_type": "code",
   "execution_count": null,
   "id": "d7bd0fb7",
   "metadata": {},
   "outputs": [],
   "source": []
  },
  {
   "cell_type": "code",
   "execution_count": null,
   "id": "14176679",
   "metadata": {},
   "outputs": [],
   "source": []
  },
  {
   "cell_type": "code",
   "execution_count": null,
   "id": "c5b70390",
   "metadata": {},
   "outputs": [],
   "source": []
  },
  {
   "cell_type": "code",
   "execution_count": null,
   "id": "b9e09de1",
   "metadata": {},
   "outputs": [],
   "source": []
  },
  {
   "cell_type": "code",
   "execution_count": null,
   "id": "e6bc947a",
   "metadata": {},
   "outputs": [],
   "source": []
  },
  {
   "cell_type": "code",
   "execution_count": null,
   "id": "b9e075c9",
   "metadata": {},
   "outputs": [],
   "source": []
  },
  {
   "cell_type": "code",
   "execution_count": null,
   "id": "edbebb43",
   "metadata": {},
   "outputs": [],
   "source": []
  },
  {
   "cell_type": "code",
   "execution_count": null,
   "id": "47eb2147",
   "metadata": {},
   "outputs": [],
   "source": []
  },
  {
   "cell_type": "code",
   "execution_count": null,
   "id": "a1e07ffa",
   "metadata": {},
   "outputs": [],
   "source": []
  },
  {
   "cell_type": "code",
   "execution_count": null,
   "id": "3272a787",
   "metadata": {},
   "outputs": [],
   "source": []
  },
  {
   "cell_type": "code",
   "execution_count": null,
   "id": "decddad2",
   "metadata": {},
   "outputs": [],
   "source": []
  },
  {
   "cell_type": "code",
   "execution_count": null,
   "id": "86b51070",
   "metadata": {},
   "outputs": [],
   "source": []
  },
  {
   "cell_type": "code",
   "execution_count": null,
   "id": "564a4d56",
   "metadata": {},
   "outputs": [],
   "source": []
  },
  {
   "cell_type": "code",
   "execution_count": null,
   "id": "3769ccaf",
   "metadata": {},
   "outputs": [],
   "source": []
  },
  {
   "cell_type": "code",
   "execution_count": null,
   "id": "6b373939",
   "metadata": {},
   "outputs": [],
   "source": []
  },
  {
   "cell_type": "code",
   "execution_count": null,
   "id": "894d237e",
   "metadata": {},
   "outputs": [],
   "source": []
  },
  {
   "cell_type": "code",
   "execution_count": null,
   "id": "29ca94b5",
   "metadata": {},
   "outputs": [],
   "source": []
  },
  {
   "cell_type": "code",
   "execution_count": null,
   "id": "147fe532",
   "metadata": {},
   "outputs": [],
   "source": []
  },
  {
   "cell_type": "code",
   "execution_count": null,
   "id": "147d09b1",
   "metadata": {},
   "outputs": [],
   "source": []
  },
  {
   "cell_type": "code",
   "execution_count": null,
   "id": "538ae2b3",
   "metadata": {},
   "outputs": [],
   "source": []
  },
  {
   "cell_type": "code",
   "execution_count": null,
   "id": "b07eb491",
   "metadata": {},
   "outputs": [],
   "source": []
  },
  {
   "cell_type": "code",
   "execution_count": null,
   "id": "f90f7c3c",
   "metadata": {},
   "outputs": [],
   "source": []
  },
  {
   "cell_type": "code",
   "execution_count": null,
   "id": "e23ccd0d",
   "metadata": {},
   "outputs": [],
   "source": []
  },
  {
   "cell_type": "code",
   "execution_count": null,
   "id": "97d9fdad",
   "metadata": {},
   "outputs": [],
   "source": []
  }
 ],
 "metadata": {
  "kernelspec": {
   "display_name": "Python 3.9.13 64-bit (microsoft store)",
   "language": "python",
   "name": "python3"
  },
  "language_info": {
   "codemirror_mode": {
    "name": "ipython",
    "version": 3
   },
   "file_extension": ".py",
   "mimetype": "text/x-python",
   "name": "python",
   "nbconvert_exporter": "python",
   "pygments_lexer": "ipython3",
   "version": "3.9.13"
  },
  "vscode": {
   "interpreter": {
    "hash": "4a0153d82e60ecc1a06a63b607e324dac629d31d9fa1b6690d7d24a377c51ece"
   }
  }
 },
 "nbformat": 4,
 "nbformat_minor": 5
}
