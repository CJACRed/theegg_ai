{
 "cells": [
  {
   "cell_type": "markdown",
   "metadata": {
    "slideshow": {
     "slide_type": "slide"
    }
   },
   "source": [
    "------------------------------------------------------------------------------------------------------<br>\n",
    "<h3 style=\"background:#87a1c2; color:#ffffff; padding:20px; border-radius:5px;\">✍ EJERCICIOS NUMPY PARA @EGGERS</h3><br>\n",
    "------------------------------------------------------------------------------------------------------<br>"
   ]
  },
  {
   "cell_type": "markdown",
   "metadata": {
    "slideshow": {
     "slide_type": "slide"
    }
   },
   "source": [
    "1. Crea un vector entre 7 y 66.\n",
    "2. Invierte el vector generado anteriormente.\n",
    "3. Matriz de 4x4 con valores entre 0 y 15.\n",
    "5. Crea la matriz identidad de 5x5.\n",
    "6. Crea una matriz de 5x5 donde la posición central y todas las posiciones que conforman el marco valgan 1 y el resto 0.\n",
    "7. Matriz de 4x4 donde cada fila valga entre 3 y 0. Valores in crescendo.\n",
    "8. Crea un array de ceros de 2x7.\n",
    "9. Crea un array de ceros de 5x4 excepto toda la primera fila que valga 1.\n",
    "10. Crea un array que represente una tabla de ajedrez. Negras 1 y blancas 0."
   ]
  },
  {
   "cell_type": "code",
   "execution_count": 2,
   "metadata": {},
   "outputs": [],
   "source": [
    "#Importar la libreria\n",
    "\n",
    "import numpy as np"
   ]
  },
  {
   "cell_type": "code",
   "execution_count": 4,
   "metadata": {},
   "outputs": [
    {
     "data": {
      "text/plain": [
       "array([ 7,  8,  9, 10, 11, 12, 13, 14, 15, 16, 17, 18, 19, 20, 21, 22, 23,\n",
       "       24, 25, 26, 27, 28, 29, 30, 31, 32, 33, 34, 35, 36, 37, 38, 39, 40,\n",
       "       41, 42, 43, 44, 45, 46, 47, 48, 49, 50, 51, 52, 53, 54, 55, 56, 57,\n",
       "       58, 59, 60, 61, 62, 63, 64, 65, 66])"
      ]
     },
     "execution_count": 4,
     "metadata": {},
     "output_type": "execute_result"
    }
   ],
   "source": [
    "#1. Crea un vector entre 7 y 66\n",
    "\n",
    "vector = np.arange(7,67)\n",
    "vector"
   ]
  },
  {
   "cell_type": "code",
   "execution_count": 5,
   "metadata": {},
   "outputs": [
    {
     "data": {
      "text/plain": [
       "array([66, 65, 64, 63, 62, 61, 60, 59, 58, 57, 56, 55, 54, 53, 52, 51, 50,\n",
       "       49, 48, 47, 46, 45, 44, 43, 42, 41, 40, 39, 38, 37, 36, 35, 34, 33,\n",
       "       32, 31, 30, 29, 28, 27, 26, 25, 24, 23, 22, 21, 20, 19, 18, 17, 16,\n",
       "       15, 14, 13, 12, 11, 10,  9,  8,  7])"
      ]
     },
     "execution_count": 5,
     "metadata": {},
     "output_type": "execute_result"
    }
   ],
   "source": [
    "#2. Invierte el vector generado anteriormente.\n",
    "#metodo 1\n",
    "vector_invertido = vector[::-1]\n",
    "vector_invertido"
   ]
  },
  {
   "cell_type": "code",
   "execution_count": 7,
   "metadata": {},
   "outputs": [
    {
     "data": {
      "text/plain": [
       "array([66, 65, 64, 63, 62, 61, 60, 59, 58, 57, 56, 55, 54, 53, 52, 51, 50,\n",
       "       49, 48, 47, 46, 45, 44, 43, 42, 41, 40, 39, 38, 37, 36, 35, 34, 33,\n",
       "       32, 31, 30, 29, 28, 27, 26, 25, 24, 23, 22, 21, 20, 19, 18, 17, 16,\n",
       "       15, 14, 13, 12, 11, 10,  9,  8,  7])"
      ]
     },
     "execution_count": 7,
     "metadata": {},
     "output_type": "execute_result"
    }
   ],
   "source": [
    "#Metodo2\n",
    "Vector_invert_np = np.flip(vector)\n",
    "Vector_invert_np"
   ]
  },
  {
   "cell_type": "code",
   "execution_count": 92,
   "metadata": {},
   "outputs": [
    {
     "data": {
      "text/plain": [
       "array([[11, 13,  7,  2],\n",
       "       [11, 13,  7,  9],\n",
       "       [ 8,  9,  1,  2],\n",
       "       [ 9, 11,  2,  3]])"
      ]
     },
     "execution_count": 92,
     "metadata": {},
     "output_type": "execute_result"
    }
   ],
   "source": [
    "#3. Matriz de 4x4 con valores entre 0 y 15.\n",
    "relleno = np.random.randint(0,15,(4,4))\n",
    "relleno\n"
   ]
  },
  {
   "cell_type": "code",
   "execution_count": 21,
   "metadata": {},
   "outputs": [
    {
     "data": {
      "text/plain": [
       "array([[1., 0., 0., 0., 0.],\n",
       "       [0., 1., 0., 0., 0.],\n",
       "       [0., 0., 1., 0., 0.],\n",
       "       [0., 0., 0., 1., 0.],\n",
       "       [0., 0., 0., 0., 1.]])"
      ]
     },
     "execution_count": 21,
     "metadata": {},
     "output_type": "execute_result"
    }
   ],
   "source": [
    "#5. Crea la matriz identidad de 5x5.\n",
    "matriz_id = np.identity(5)\n",
    "matriz_id"
   ]
  },
  {
   "cell_type": "code",
   "execution_count": 105,
   "metadata": {},
   "outputs": [
    {
     "data": {
      "text/plain": [
       "array([[1., 1., 1., 1., 1.],\n",
       "       [1., 0., 0., 0., 1.],\n",
       "       [1., 0., 1., 0., 1.],\n",
       "       [1., 0., 0., 0., 1.],\n",
       "       [1., 1., 1., 1., 1.]])"
      ]
     },
     "execution_count": 105,
     "metadata": {},
     "output_type": "execute_result"
    }
   ],
   "source": [
    "#6. Crea una matriz de 5x5 donde la posición central y todas las posiciones que conforman el marco valgan 1 y el resto 0.\n",
    "matriz_ojo= np.zeros((5,5))\n",
    "matriz_ojo[0::4] += np.ones(5)\n",
    "matriz_ojo[1:4,0] += 1\n",
    "matriz_ojo[2,2] += 1\n",
    "matriz_ojo[1:4,4] += 1\n",
    "matriz_ojo\n",
    "\n"
   ]
  },
  {
   "cell_type": "code",
   "execution_count": 91,
   "metadata": {},
   "outputs": [
    {
     "data": {
      "text/plain": [
       "array([[1., 0., 0., 2.],\n",
       "       [1., 2., 1., 0.],\n",
       "       [1., 2., 1., 2.],\n",
       "       [2., 0., 1., 2.]])"
      ]
     },
     "execution_count": 91,
     "metadata": {},
     "output_type": "execute_result"
    }
   ],
   "source": [
    "#7. Matriz de 4x4 donde cada fila valga entre 3 y 0. Valores in crescendo.\n",
    "m_crescendo=np.zeros((4,4))\n",
    "m_crescendo[:,:]=np.random.randint(0,3,(4,4))\n",
    "m_crescendo"
   ]
  },
  {
   "cell_type": "code",
   "execution_count": 23,
   "metadata": {},
   "outputs": [
    {
     "data": {
      "text/plain": [
       "array([[0., 0., 0., 0., 0., 0., 0.],\n",
       "       [0., 0., 0., 0., 0., 0., 0.]])"
      ]
     },
     "execution_count": 23,
     "metadata": {},
     "output_type": "execute_result"
    }
   ],
   "source": [
    "#8. Crea un array de ceros de 2x7.\n",
    "matriz_7=np.zeros((2,7))\n",
    "matriz_7"
   ]
  },
  {
   "cell_type": "code",
   "execution_count": 49,
   "metadata": {},
   "outputs": [
    {
     "data": {
      "text/plain": [
       "array([[1., 1., 1., 1.],\n",
       "       [0., 0., 0., 0.],\n",
       "       [0., 0., 0., 0.],\n",
       "       [0., 0., 0., 0.],\n",
       "       [0., 0., 0., 0.]])"
      ]
     },
     "execution_count": 49,
     "metadata": {},
     "output_type": "execute_result"
    }
   ],
   "source": [
    "#9. Crea un array de ceros de 5x4 excepto toda la primera fila que valga 1.\n",
    "matriz_8=np.zeros((5,4))\n",
    "matriz_8[0] += np.ones(4)\n",
    "matriz_8"
   ]
  },
  {
   "cell_type": "code",
   "execution_count": 95,
   "metadata": {},
   "outputs": [
    {
     "data": {
      "text/plain": [
       "array([[1., 0., 1., 0., 1., 0., 1., 0.],\n",
       "       [0., 1., 0., 1., 0., 1., 0., 1.],\n",
       "       [1., 0., 1., 0., 1., 0., 1., 0.],\n",
       "       [0., 1., 0., 1., 0., 1., 0., 1.],\n",
       "       [1., 0., 1., 0., 1., 0., 1., 0.],\n",
       "       [0., 1., 0., 1., 0., 1., 0., 1.],\n",
       "       [1., 0., 1., 0., 1., 0., 1., 0.],\n",
       "       [0., 1., 0., 1., 0., 1., 0., 1.]])"
      ]
     },
     "execution_count": 95,
     "metadata": {},
     "output_type": "execute_result"
    }
   ],
   "source": [
    "#10. Crea un array que represente una tabla de ajedrez. Negras 1 y blancas 0.\n",
    "ajedrez = np.zeros((8,8))\n",
    "ajedrez[0::2,0::2] += 1 \n",
    "ajedrez[1::2,1::2] += 1\n",
    "ajedrez"
   ]
  },
  {
   "cell_type": "code",
   "execution_count": null,
   "metadata": {},
   "outputs": [],
   "source": []
  }
 ],
 "metadata": {
  "kernelspec": {
   "display_name": "Python 3.9.12 ('base')",
   "language": "python",
   "name": "python3"
  },
  "language_info": {
   "codemirror_mode": {
    "name": "ipython",
    "version": 3
   },
   "file_extension": ".py",
   "mimetype": "text/x-python",
   "name": "python",
   "nbconvert_exporter": "python",
   "pygments_lexer": "ipython3",
   "version": "3.9.12"
  },
  "vscode": {
   "interpreter": {
    "hash": "ad2bdc8ecc057115af97d19610ffacc2b4e99fae6737bb82f5d7fb13d2f2c186"
   }
  }
 },
 "nbformat": 4,
 "nbformat_minor": 1
}
